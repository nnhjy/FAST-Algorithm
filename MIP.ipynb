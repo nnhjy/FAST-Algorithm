{
 "cells": [
  {
   "cell_type": "markdown",
   "metadata": {},
   "source": [
    "## Equivalent MIP aimed by the FAST algorithm"
   ]
  },
  {
   "cell_type": "code",
   "execution_count": 71,
   "metadata": {},
   "outputs": [],
   "source": [
    "# Import packages\n",
    "using JuMP\n",
    "using Cbc, HiGHS, Clp\n",
    "using SpineInterface"
   ]
  },
  {
   "cell_type": "code",
   "execution_count": 6,
   "metadata": {},
   "outputs": [],
   "source": [
    "# activate SpineDB\n",
    "inputDB = \"sqlite:///$(@__DIR__)\\\\.spinetoolbox\\\\items\\\\input_db\\\\Input DB.sqlite\"\n",
    "# \"sqlite:///$(pwd())\\\\.spinetoolbox\\\\items\\\\input_db\\\\Input DB.sqlite\"\n",
    "using_spinedb(inputDB)"
   ]
  },
  {
   "cell_type": "markdown",
   "metadata": {},
   "source": [
    "### Sets and indices\n",
    "\n",
    "$u \\in U^{fl}$\n",
    ": Set of flexible generation units (e.g. single-cycle gas turbine and distillate oil plant).\n",
    "\n",
    "$u \\in U^{in}$\n",
    ": Set of inflexible generation units (e.g. CCGT and steam-cycle coal generators).\n",
    "\n",
    "$u \\in U^{all}$\n",
    ": Set of all dispatchable generation units consisting of the flexible and the inflexible, i.e. $U^{all} = U^{fl} \\cup U^{in}$.\n",
    "\n",
    "$v \\in V$\n",
    ": Set of variable renewable (VRE) generation units.\n",
    "\n",
    "$t \\in T$\n",
    ": Set of time-steps.\n",
    "\n"
   ]
  },
  {
   "cell_type": "code",
   "execution_count": null,
   "metadata": {},
   "outputs": [],
   "source": [
    "# Implements Sets\n",
    "U_flex = unit_flex()\n",
    "U_inflex = unit_inflex()\n",
    "U_all_dispatch = vcat(U_flex, U_inflex)\n",
    "V = unit_vre()\n",
    "\n",
    "t1 = float(start_time(timeframe=timeframe(:solve_6h)))\n",
    "t_end = float(end_time(timeframe=timeframe(:solve_6h)))\n",
    "Δt = float(timestep_length(timeframe=timeframe(:solve_6h)))\n",
    "T = t1:Δt:t_end\n",
    "T_extend = t1-1.0:Δt:t_end;\n",
    "# 0.0:float(size(T)[1]), 0.0:float(length(T))"
   ]
  },
  {
   "cell_type": "markdown",
   "metadata": {},
   "source": [
    "### Variables\n",
    "\n",
    "$x_{v,t}^{curt}$\n",
    ": Curtailment (MW) of VRE units.\n",
    "\n",
    "$x_{u,t}^{gen}$ \n",
    ": Electrical output (MW) of dispatchable units.\n",
    "\n",
    "$z_{u,t:u \\in U^{in}}^{online} \\in \\{0,1\\}$ \n",
    ": Online decision (*binary*) of inflexible units.\n",
    "\n",
    "$z_{u,t:u \\in U^{in}}^{start} \\in \\{0,1\\}$ \n",
    ": Start up decision (*binary*) of inflexible units.\n",
    "\n",
    "### MIP Formulation - Objective function\n",
    "\n",
    "$$\n",
    "\\begin{align}\n",
    "    & \\min_{\\{ z_{u,t:u \\in U^{in}}^{start},z_{u,t:u \\in U^{in}}^{online},x_{u,t}^{gen} \\}} \\sum_{t \\in T} C_t^{total} \\text{, } \\\\\n",
    "    & \\textbf{where, } \\\\\n",
    "    & C_t^{total} = \\sum_{u \\in  U^{in}} \n",
    "             \\Big( C_{u}^{start} \\cdot z_{u,t}^{start} + C_{u}^{NL} \\cdot z_{u,t}^{online} + C_{u}^{incr} \\cdot x_{u,t}^{gen} \\Big) \n",
    "             + \\sum_{u \\in  U^{fl}} C_{u}^{avg} \\cdot x_{u,t}^{gen} \\text{, } \\forall t \\in T \\text{. } \\\\\n",
    "\\end{align}\n",
    "$$"
   ]
  },
  {
   "cell_type": "code",
   "execution_count": 50,
   "metadata": {},
   "outputs": [],
   "source": [
    "# Set up a model\n",
    "model_FAST_MIP = Model(Cbc.Optimizer)\n",
    "\n",
    "# Build variables\n",
    "@variable(model_FAST_MIP, x_curt[v in V, t in T] >= 0)\n",
    "@variable(model_FAST_MIP, x_gen[u in U_all_dispatch, t in T] >= 0)\n",
    "@variable(model_FAST_MIP, z_start[u in U_inflex, t in T], Bin)\n",
    "@variable(model_FAST_MIP, z_online[u in U_inflex, t in T_extend], Bin)\n",
    "\n",
    "fix.(z_online[U_inflex, 0.0], 0; force = true)\n",
    "\n",
    "# Total cost per timestep\n",
    "@expression(\n",
    "    model_FAST_MIP, C_total[t in T], \n",
    "    sum((cost_start(unit_inflex = u)*z_start[u, t] + cost_NoLoad(unit_inflex = u)*z_online[u, t] + cost_incr(unit_inflex = u)*x_gen[u, t]) for u in U_inflex)\n",
    "    +\n",
    "    sum(cost_avg(unit_flex = u)*x_gen[u, t] for u in U_flex)\n",
    ")\n",
    "\n",
    "# Objective function\n",
    "@objective(model_FAST_MIP, Min, sum(C_total[t] for t in T));"
   ]
  },
  {
   "cell_type": "markdown",
   "metadata": {},
   "source": [
    "### MIP Formulation - Constraints\n",
    "\n",
    "$$\n",
    "\\begin{align}\n",
    "    & \\sum_{u \\in U^{all}} x_{u,t}^{gen} + \\sum_{v \\in V} \\Big( P_{v,t}^{avail} - x_{v,t}^{curt} \\Big) = P_t^{dem} \\text{, } \\forall t \\in T \\\\\n",
    "    & x_{v,t}^{curt} \\leq P_{v,t}^{avail} \\text{, } \\forall v \\in V \\text{, } \\forall t \\in T \\\\\n",
    "    & \\sum_{u \\in U^{in}} \\Big( z_{u,t}^{online} \\cdot P_{u}^{max} \\Big) - \\sum_{u \\in U^{in}} x_{u,t}^{gen} \\geq P_t^{res} \\text{, } \\forall t \\in T \\\\\n",
    "    & \\sum_{u \\in U^{all}} x_{u,t}^{gen} \\leq I_{U^{all}} \\text{, } \\forall t \\in T \\\\\n",
    "    & \\sum_{u \\in U^{in}} z_{u,t}^{online} \\leq N_{U^{in}} \\text{, } \\forall t \\in T \\\\\n",
    "    & x_{u,t}^{gen} \\geq z_{u,t}^{online} \\cdot P_{u}^{min} \\text{, } \\forall u \\in U^{in} \\text{, } \\forall t \\in T  \\\\\n",
    "    & x_{u,t}^{gen} \\leq z_{u,t}^{online} \\cdot P_{u}^{max} \\text{, } \\forall u \\in U^{in} \\text{, } \\forall t \\in T  \\\\\n",
    "    & z_{u,t}^{start} \\geq z_{u,t}^{online} -z_{u,t-1}^{online} \\text{, } \\forall u \\in U^{in} \\text{, } \\forall t \\in T.\n",
    "\\end{align}\n",
    "$$"
   ]
  },
  {
   "cell_type": "code",
   "execution_count": null,
   "metadata": {},
   "outputs": [],
   "source": [
    "# Supply demand balance\n",
    "@constraint(model_FAST_MIP, supply_demand_balance[t in T], \n",
    "    sum(x_gen[u, t] for u in U_all_dispatch) + sum((P_avail(unit_vre=v, inds=t) - x_curt[v,t]) for v in V) \n",
    "    == \n",
    "    demand(node = node(:Elec), inds=t)\n",
    ");"
   ]
  },
  {
   "cell_type": "code",
   "execution_count": null,
   "metadata": {},
   "outputs": [],
   "source": [
    "# Curtailment limit\n",
    "@constraint(model_FAST_MIP, curtail_limit[v in V, t in T], x_curt[v, t] <= P_avail(unit_vre=v, inds=t));"
   ]
  },
  {
   "cell_type": "code",
   "execution_count": null,
   "metadata": {},
   "outputs": [],
   "source": [
    "# Reserve requirement\n",
    "@constraint(model_FAST_MIP, reserve_requirement[t in T], \n",
    "    sum(z_online[u, t]*P_max(unit_inflex=u) for u in U_inflex) - sum(x_gen[u, t] for u in U_inflex) \n",
    "    >= \n",
    "    min_reserve(node=node(:Elec))\n",
    ");"
   ]
  },
  {
   "cell_type": "code",
   "execution_count": null,
   "metadata": {},
   "outputs": [],
   "source": [
    "# Dispatch generation limit\n",
    "I_all_dispatch = sum(installed_capacity(unit_flex = u) for u in U_flex) + sum(P_max(unit_inflex = u) * N(unit_inflex = u) for u in U_inflex)\n",
    "@constraint(model_FAST_MIP, dispatch_ub[t in T], sum(x_gen[u, t] for u in U_all_dispatch) <= I_all_dispatch);"
   ]
  },
  {
   "cell_type": "code",
   "execution_count": 64,
   "metadata": {},
   "outputs": [],
   "source": [
    "# Online unit limit\n",
    "N_inflex = sum(N(unit_inflex=u) for u in U_inflex)\n",
    "@constraint(model_FAST_MIP, online_ub[t in T], sum(z_online[u, t] for u in U_inflex) <= N_inflex);"
   ]
  },
  {
   "cell_type": "code",
   "execution_count": 65,
   "metadata": {},
   "outputs": [],
   "source": [
    "# Inflex generation lower bound\n",
    "@constraint(model_FAST_MIP, inflex_lb[u in U_inflex, t in T], x_gen[u, t] >= z_online[u, t]*P_min(unit_inflex = u));"
   ]
  },
  {
   "cell_type": "code",
   "execution_count": 66,
   "metadata": {},
   "outputs": [],
   "source": [
    "# Inflex generation upper bound\n",
    "@constraint(model_FAST_MIP, inflex_ub[u in U_inflex, t in T], x_gen[u, t] <= z_online[u, t]*P_max(unit_inflex = u));"
   ]
  },
  {
   "cell_type": "code",
   "execution_count": null,
   "metadata": {},
   "outputs": [],
   "source": [
    "# Inflex unit startup transition\n",
    "@constraint(model_FAST_MIP, inflex_su[u in U_inflex, t in T], z_start[u, t] >= z_online[u, t] - z_online[u, t-1.0]);"
   ]
  },
  {
   "cell_type": "markdown",
   "metadata": {},
   "source": [
    "### Solve MIP"
   ]
  },
  {
   "cell_type": "code",
   "execution_count": 185,
   "metadata": {},
   "outputs": [
    {
     "name": "stdout",
     "output_type": "stream",
     "text": [
      "Model status = OPTIMAL\n",
      "Solve time = 0.005033969879150391\n",
      "Objective value = 318000.0\n"
     ]
    }
   ],
   "source": [
    "optimizer = HiGHS.Optimizer \n",
    "# HiGHS.Optimizer, Cbc.Optimizer\n",
    "set_optimizer(model_FAST_MIP, optimizer; add_bridges = false)\n",
    "set_silent(model_FAST_MIP)\n",
    "# unset_silent(model_FAST_MIP)\n",
    "\n",
    "optimize!(model_FAST_MIP)                          # Solve the problem              \n",
    "\n",
    "println(\"Model status = $(termination_status(model_FAST_MIP))\") # Solution status\n",
    "\n",
    "println(\"Solve time = $(solve_time(model_FAST_MIP))\")\n",
    "\n",
    "println(\"Objective value = $(objective_value(model_FAST_MIP))\")\n",
    "\n",
    "# @show solution_summary(model_FAST_MIP)\n",
    "\n",
    "# @show value.(x_gen)\n",
    "\n",
    "# @show value.(x_curt)\n",
    "\n",
    "# @show value.(z_start)\n",
    "\n",
    "# @show value.(z_online);"
   ]
  },
  {
   "cell_type": "markdown",
   "metadata": {},
   "source": [
    "### Solve LP with integer variable fixed to obtain duals"
   ]
  },
  {
   "cell_type": "code",
   "execution_count": 187,
   "metadata": {},
   "outputs": [
    {
     "name": "stdout",
     "output_type": "stream",
     "text": [
      "Model status = OPTIMAL\n",
      "Solve time = 0.0009999275207519531\n",
      "Objective value = 318000.0\n",
      "Has duals = true\n",
      "Dual status = FEASIBLE_POINT\n",
      "Shadow price of demand = 1-dimensional DenseAxisArray{Float64,1,...} with index sets:\n",
      "    Dimension 1, 1.0:1.0:6.0\n",
      "And data, a 6-element Vector{Float64}:\n",
      "   -0.0\n",
      " -100.0\n",
      "  -40.0\n",
      " -100.0\n",
      " -100.0\n",
      "   -0.0\n",
      "Reduced cost of generation = 2-dimensional DenseAxisArray{Float64,2,...} with index sets:\n",
      "    Dimension 1, Union{Int64, Object, TimeSlice}[OCGT, CCGT, ST_Coal]\n",
      "    Dimension 2, 1.0:1.0:6.0\n",
      "And data, a 3×6 Matrix{Float64}:\n",
      " 100.0  0.0  60.0  0.0  0.0  100.0\n",
      "  20.0  0.0   0.0  0.0  0.0   20.0\n",
      "   0.0  0.0   0.0  0.0  0.0    0.0\n"
     ]
    }
   ],
   "source": [
    "# Copy the MIP model\n",
    "model_FAST_LP, map = copy_model(model_FAST_MIP)\n",
    "\n",
    "# Fix the binary variables solved in the MIP\n",
    "z_online_fix = map[z_online]\n",
    "z_start_fix = map[z_start]\n",
    "\n",
    "fix.(z_online_fix[U_inflex, T_extend], value.(z_online[U_inflex, T_extend]); force = true)\n",
    "fix.(z_start_fix[U_inflex, T], value.(z_start[U_inflex, T]); force = true)\n",
    "\n",
    "# Assign a LP solver\n",
    "optimizer = Clp.Optimizer \n",
    "set_optimizer(model_FAST_LP, optimizer; add_bridges = false)\n",
    "set_silent(model_FAST_LP)\n",
    "# unset_silent(model_FAST_LP)\n",
    "\n",
    "optimize!(model_FAST_LP)                          # Solve the problem              \n",
    "\n",
    "println(\"Model status = $(termination_status(model_FAST_LP))\") # Solution status\n",
    "println(\"Solve time = $(solve_time(model_FAST_LP))\")\n",
    "\n",
    "println(\"Objective value = $(objective_value(model_FAST_LP))\")\n",
    "println(\"Has duals = $(has_duals(model_FAST_LP))\")\n",
    "if has_duals(model_FAST_LP)\n",
    "    println(\"Dual status = $(dual_status(model_FAST_LP))\")\n",
    "\n",
    "    println(\"Shadow price of demand = $(shadow_price.(map[supply_demand_balance]))\")\n",
    "\n",
    "    println(\"Reduced cost of generation = $(reduced_cost.(map[x_gen]))\")\n",
    "end\n",
    "\n",
    "# @show solution_summary(model_FAST_LP)\n",
    "\n",
    "# @show value.(map[x_gen])\n",
    "\n",
    "# @show value.(map[x_curt])\n",
    "\n",
    "# @show value.(z_start_fix)\n",
    "\n",
    "# @show value.(z_online_fix);"
   ]
  },
  {
   "cell_type": "code",
   "execution_count": 170,
   "metadata": {},
   "outputs": [
    {
     "data": {
      "text/plain": [
       "true"
      ]
     },
     "metadata": {},
     "output_type": "display_data"
    }
   ],
   "source": [
    "@show typeof(supply_demand_balance[1.0])\n",
    "typeof(x_gen[unit_inflex(:ST_Coal), 1.0])\n",
    "typeof(x_gen[U_all_dispatch[1], 1.0])\n",
    "value.(x_gen[U_all_dispatch, 1.0])\n",
    "value(x_gen[U_all_dispatch[2], 1.0])\n",
    "value(x_gen[unit_flex(:OCGT), 3.0])\n",
    "\n",
    "object_dictionary(model_FAST_LP)\n",
    "model_FAST_LP[:z_online] == map[z_online] == z_online_fix != z_online == model_FAST_MIP[:z_online]"
   ]
  },
  {
   "cell_type": "code",
   "execution_count": 78,
   "metadata": {},
   "outputs": [
    {
     "name": "stdout",
     "output_type": "stream",
     "text": [
      "objective_function(model_FAST_MIP) = 100000 z_start[CCGT,1.0] + 10000 z_online[CCGT,1.0] + 20 x_gen[CCGT,1.0] + 50000 z_start[ST_Coal,1.0] + 10000 z_online[ST_Coal,1.0] + 40 x_gen[ST_Coal,1.0] + 100 x_gen[OCGT,1.0] + 100000 z_start[CCGT,2.0] + 10000 z_online[CCGT,2.0] + 20 x_gen[CCGT,2.0] + 50000 z_start[ST_Coal,2.0] + 10000 z_online[ST_Coal,2.0] + 40 x_gen[ST_Coal,2.0] + 100 x_gen[OCGT,2.0] + 100000 z_start[CCGT,3.0] + 10000 z_online[CCGT,3.0] + 20 x_gen[CCGT,3.0] + 50000 z_start[ST_Coal,3.0] + 10000 z_online[ST_Coal,3.0] + 40 x_gen[ST_Coal,3.0] + 100 x_gen[OCGT,3.0] + 100000 z_start[CCGT,4.0] + 10000 z_online[CCGT,4.0] + 20 x_gen[CCGT,4.0] + 50000 z_start[ST_Coal,4.0] + 10000 z_online[ST_Coal,4.0] + 40 x_gen[ST_Coal,4.0] + 100 x_gen[OCGT,4.0] + 100000 z_start[CCGT,5.0] + 10000 z_online[CCGT,5.0] + 20 x_gen[CCGT,5.0] + 50000 z_start[ST_Coal,5.0] + 10000 z_online[ST_Coal,5.0] + 40 x_gen[ST_Coal,5.0] + 100 x_gen[OCGT,5.0] + 100000 z_start[CCGT,6.0] + 10000 z_online[CCGT,6.0] + 20 x_gen[CCGT,6.0] + 50000 z_start[ST_Coal,6.0] + 10000 z_online[ST_Coal,6.0] + 40 x_gen[ST_Coal,6.0] + 100 x_gen[OCGT,6.0]\n"
     ]
    },
    {
     "data": {
      "text/latex": [
       "$$ 100000 z\\_start_{CCGT,1.0} + 10000 z\\_online_{CCGT,1.0} + 20 x\\_gen_{CCGT,1.0} + 50000 z\\_start_{ST\\_Coal,1.0} + 10000 z\\_online_{ST\\_Coal,1.0} + 40 x\\_gen_{ST\\_Coal,1.0} + 100 x\\_gen_{OCGT,1.0} + 100000 z\\_start_{CCGT,2.0} + 10000 z\\_online_{CCGT,2.0} + 20 x\\_gen_{CCGT,2.0} + 50000 z\\_start_{ST\\_Coal,2.0} + 10000 z\\_online_{ST\\_Coal,2.0} + 40 x\\_gen_{ST\\_Coal,2.0} + 100 x\\_gen_{OCGT,2.0} + 100000 z\\_start_{CCGT,3.0} + 10000 z\\_online_{CCGT,3.0} + 20 x\\_gen_{CCGT,3.0} + 50000 z\\_start_{ST\\_Coal,3.0} + 10000 z\\_online_{ST\\_Coal,3.0} + 40 x\\_gen_{ST\\_Coal,3.0} + 100 x\\_gen_{OCGT,3.0} + 100000 z\\_start_{CCGT,4.0} + 10000 z\\_online_{CCGT,4.0} + 20 x\\_gen_{CCGT,4.0} + 50000 z\\_start_{ST\\_Coal,4.0} + 10000 z\\_online_{ST\\_Coal,4.0} + 40 x\\_gen_{ST\\_Coal,4.0} + 100 x\\_gen_{OCGT,4.0} + 100000 z\\_start_{CCGT,5.0} + 10000 z\\_online_{CCGT,5.0} + 20 x\\_gen_{CCGT,5.0} + 50000 z\\_start_{ST\\_Coal,5.0} + 10000 z\\_online_{ST\\_Coal,5.0} + 40 x\\_gen_{ST\\_Coal,5.0} + 100 x\\_gen_{OCGT,5.0} + 100000 z\\_start_{CCGT,6.0} + 10000 z\\_online_{CCGT,6.0} + 20 x\\_gen_{CCGT,6.0} + 50000 z\\_start_{ST\\_Coal,6.0} + 10000 z\\_online_{ST\\_Coal,6.0} + 40 x\\_gen_{ST\\_Coal,6.0} + 100 x\\_gen_{OCGT,6.0} $$"
      ],
      "text/plain": [
       "100000 z_start[CCGT,1.0] + 10000 z_online[CCGT,1.0] + 20 x_gen[CCGT,1.0] + 50000 z_start[ST_Coal,1.0] + 10000 z_online[ST_Coal,1.0] + 40 x_gen[ST_Coal,1.0] + 100 x_gen[OCGT,1.0] + 100000 z_start[CCGT,2.0] + 10000 z_online[CCGT,2.0] + 20 x_gen[CCGT,2.0] + 50000 z_start[ST_Coal,2.0] + 10000 z_online[ST_Coal,2.0] + 40 x_gen[ST_Coal,2.0] + 100 x_gen[OCGT,2.0] + 100000 z_start[CCGT,3.0] + 10000 z_online[CCGT,3.0] + 20 x_gen[CCGT,3.0] + 50000 z_start[ST_Coal,3.0] + 10000 z_online[ST_Coal,3.0] + 40 x_gen[ST_Coal,3.0] + 100 x_gen[OCGT,3.0] + 100000 z_start[CCGT,4.0] + 10000 z_online[CCGT,4.0] + 20 x_gen[CCGT,4.0] + 50000 z_start[ST_Coal,4.0] + 10000 z_online[ST_Coal,4.0] + 40 x_gen[ST_Coal,4.0] + 100 x_gen[OCGT,4.0] + 100000 z_start[CCGT,5.0] + 10000 z_online[CCGT,5.0] + 20 x_gen[CCGT,5.0] + 50000 z_start[ST_Coal,5.0] + 10000 z_online[ST_Coal,5.0] + 40 x_gen[ST_Coal,5.0] + 100 x_gen[OCGT,5.0] + 100000 z_start[CCGT,6.0] + 10000 z_online[CCGT,6.0] + 20 x_gen[CCGT,6.0] + 50000 z_start[ST_Coal,6.0] + 10000 z_online[ST_Coal,6.0] + 40 x_gen[ST_Coal,6.0] + 100 x_gen[OCGT,6.0]"
      ]
     },
     "metadata": {},
     "output_type": "display_data"
    }
   ],
   "source": [
    "model_FAST_MIP\n",
    "# Check elements of the model\n",
    "object_dictionary(model_FAST_MIP)\n",
    "model_FAST_MIP[:supply_demand_balance]\n",
    "@show objective_function(model_FAST_MIP)"
   ]
  }
 ],
 "metadata": {
  "kernelspec": {
   "display_name": "Julia 1.7.3",
   "language": "julia",
   "name": "julia-1.7"
  },
  "language_info": {
   "file_extension": ".jl",
   "mimetype": "application/julia",
   "name": "julia",
   "version": "1.7.3"
  },
  "orig_nbformat": 4
 },
 "nbformat": 4,
 "nbformat_minor": 2
}
